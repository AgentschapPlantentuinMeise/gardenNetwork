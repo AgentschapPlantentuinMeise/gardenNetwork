{
 "cells": [
  {
   "cell_type": "markdown",
   "metadata": {},
   "source": [
    "# To make a network of the organisms in my garden"
   ]
  },
  {
   "cell_type": "code",
   "execution_count": 3,
   "metadata": {},
   "outputs": [
    {
     "name": "stdout",
     "output_type": "stream",
     "text": [
      "3.7.3 (default, Mar 27 2019, 17:13:21) [MSC v.1915 64 bit (AMD64)]\n"
     ]
    }
   ],
   "source": [
    "import sys\n",
    "print(sys.version)\n",
    "\n",
    "#Python 3.7.4 (default, Aug 9 2019, 18:34:13) [MSC v.1915 64 bit (AMD64)]\n",
    "#pygbif 0.3.0"
   ]
  },
  {
   "cell_type": "code",
   "execution_count": 4,
   "metadata": {
    "scrolled": true
   },
   "outputs": [],
   "source": [
    "import pandas as pd\n",
    "#import re\n",
    "#import matplotlib.pyplot as plt\n",
    "#from pygbif import species\n",
    "#from pygbif import occurrences as occ\n",
    "import sqlite3\n",
    "from sqlite3 import Error\n",
    "#import pydot\n",
    "#import math\n",
    "import csv"
   ]
  },
  {
   "cell_type": "markdown",
   "metadata": {},
   "source": [
    "### Setting up some parameters"
   ]
  },
  {
   "cell_type": "code",
   "execution_count": 5,
   "metadata": {},
   "outputs": [],
   "source": [
    "# If you want to exclude an interaction add it here\n",
    "#interactionsToExclude = \"visitsFlowersOf\" #If you're not intersted in pollinators this will remove most of them\n",
    "interactionsToExclude = \"interactsWith\"    #Many interactions in GloBI do not specify a specific interaction. You can get a cleaner netwot by excluding them\n",
    "#interactionsToExclude = \"\""
   ]
  },
  {
   "cell_type": "code",
   "execution_count": 6,
   "metadata": {},
   "outputs": [],
   "source": [
    "## A script to create globi.db is here https://github.com/AgentschapPlantentuinMeise/createGlobiDB\n",
    "## Define the place to find the interaction data\n",
    "## This just avoids having to rely on the GloBI API, but it also mean that a stable citable version of GloBI can be used.\n",
    "globiDB = r\"..\\..\\createGlobiDB\\globi.db\""
   ]
  },
  {
   "cell_type": "raw",
   "metadata": {},
   "source": [
    "### Get a list of all the taxa from an iNaturalist or GBIF download\n"
   ]
  },
  {
   "cell_type": "code",
   "execution_count": 7,
   "metadata": {},
   "outputs": [],
   "source": [
    "# import a file of observations from iNaturalist\n",
    "taxaList = {} # set up a dictionary of names\n",
    "\n",
    "\n",
    "#iNat = pd.read_csv ('observations-125623.csv')\n",
    "\n",
    "#for index, row in iNat.iterrows():\n",
    "#    taxaList[row['scientific_name']] = row['iconic_taxon_name']\n",
    "\n",
    "gbif = pd.read_csv('0146461-200613084148143.csv',sep='\\t')\n",
    "\n",
    "for index, row in gbif.iterrows():\n",
    "    taxaList[row['species']] = row['kingdom']"
   ]
  },
  {
   "cell_type": "code",
   "execution_count": 8,
   "metadata": {},
   "outputs": [],
   "source": [
    "# Add humans to the network\n",
    "taxaList['Homo sapiens'] = 'Animalia'"
   ]
  },
  {
   "cell_type": "code",
   "execution_count": 9,
   "metadata": {},
   "outputs": [],
   "source": [
    "#Create a connection to the SGLite version of GloBI\n",
    "try:\n",
    "    connGlobi = sqlite3.connect(globiDB)\n",
    "except Error as e:\n",
    "    print(e)"
   ]
  },
  {
   "cell_type": "markdown",
   "metadata": {},
   "source": [
    "## Get the primary interation data for the species in question\n",
    "\n",
    "This is limited to the rank of species because otherwise the network can get very large with rather irrelivent higher taxa.\n",
    "However, if no interactions are found at the species level it might be worth removing this restriction."
   ]
  },
  {
   "cell_type": "code",
   "execution_count": 10,
   "metadata": {},
   "outputs": [],
   "source": [
    "def fetchInteractionForTaxon(taxon, interactDataTaxon):\n",
    "    \n",
    "    curGlobi = connGlobi.cursor()\n",
    "    if interactionsToExclude == \"\":\n",
    "        curGlobi.execute(\"SELECT * from globi  WHERE targetTaxonSpeciesName = ?;\", \\\n",
    "                     (taxon,))\n",
    "    else:\n",
    "        curGlobi.execute(\"SELECT * from globi  WHERE targetTaxonSpeciesName = ? and interactionTypeName NOT IN (?);\", \\\n",
    "                     (taxon,interactionsToExclude,))\n",
    "        interactDataTaxon.extend(curGlobi.fetchall())\n",
    "    \n",
    "    curGlobi = connGlobi.cursor()\n",
    "    if interactionsToExclude == \"\":\n",
    "        curGlobi.execute(\"SELECT * from globi  WHERE sourceTaxonSpeciesName = ?;\", \\\n",
    "                     (taxon,))\n",
    "    else:\n",
    "        curGlobi.execute(\"SELECT * from globi  WHERE sourceTaxonSpeciesName = ? and interactionTypeName NOT IN (?);\", \\\n",
    "                     (taxon,interactionsToExclude,))\n",
    "        interactDataTaxon.extend(curGlobi.fetchall())"
   ]
  },
  {
   "cell_type": "code",
   "execution_count": 11,
   "metadata": {},
   "outputs": [
    {
     "name": "stdout",
     "output_type": "stream",
     "text": [
      "Juncus effusus\n",
      "Isolepis setacea\n",
      "Tropaeolum majus\n",
      "Populus jackii\n",
      "Tripleurospermum maritimum\n"
     ]
    },
    {
     "ename": "KeyboardInterrupt",
     "evalue": "",
     "output_type": "error",
     "traceback": [
      "\u001b[1;31m---------------------------------------------------------------------------\u001b[0m",
      "\u001b[1;31mKeyboardInterrupt\u001b[0m                         Traceback (most recent call last)",
      "\u001b[1;32m<ipython-input-11-a1a3986a52ee>\u001b[0m in \u001b[0;36m<module>\u001b[1;34m\u001b[0m\n\u001b[0;32m      3\u001b[0m \u001b[1;32mfor\u001b[0m \u001b[0manimal\u001b[0m \u001b[1;32min\u001b[0m \u001b[0mtaxaList\u001b[0m\u001b[1;33m:\u001b[0m\u001b[1;33m\u001b[0m\u001b[1;33m\u001b[0m\u001b[0m\n\u001b[0;32m      4\u001b[0m     \u001b[0mprint\u001b[0m\u001b[1;33m(\u001b[0m\u001b[0manimal\u001b[0m\u001b[1;33m)\u001b[0m\u001b[1;33m\u001b[0m\u001b[1;33m\u001b[0m\u001b[0m\n\u001b[1;32m----> 5\u001b[1;33m     \u001b[0mfetchInteractionForTaxon\u001b[0m\u001b[1;33m(\u001b[0m\u001b[0manimal\u001b[0m\u001b[1;33m,\u001b[0m\u001b[0minteractDataTaxon\u001b[0m\u001b[1;33m)\u001b[0m\u001b[1;33m\u001b[0m\u001b[1;33m\u001b[0m\u001b[0m\n\u001b[0m\u001b[0;32m      6\u001b[0m \u001b[1;33m\u001b[0m\u001b[0m\n",
      "\u001b[1;32m<ipython-input-10-9e49ff5b29cb>\u001b[0m in \u001b[0;36mfetchInteractionForTaxon\u001b[1;34m(taxon, interactDataTaxon)\u001b[0m\n\u001b[0;32m      8\u001b[0m         curGlobi.execute(\"SELECT * from globi  WHERE targetTaxonSpeciesName = ? and interactionTypeName NOT IN (?);\", \\\n\u001b[0;32m      9\u001b[0m                      (taxon,interactionsToExclude,))\n\u001b[1;32m---> 10\u001b[1;33m         \u001b[0minteractDataTaxon\u001b[0m\u001b[1;33m.\u001b[0m\u001b[0mextend\u001b[0m\u001b[1;33m(\u001b[0m\u001b[0mcurGlobi\u001b[0m\u001b[1;33m.\u001b[0m\u001b[0mfetchall\u001b[0m\u001b[1;33m(\u001b[0m\u001b[1;33m)\u001b[0m\u001b[1;33m)\u001b[0m\u001b[1;33m\u001b[0m\u001b[1;33m\u001b[0m\u001b[0m\n\u001b[0m\u001b[0;32m     11\u001b[0m \u001b[1;33m\u001b[0m\u001b[0m\n\u001b[0;32m     12\u001b[0m     \u001b[0mcurGlobi\u001b[0m \u001b[1;33m=\u001b[0m \u001b[0mconnGlobi\u001b[0m\u001b[1;33m.\u001b[0m\u001b[0mcursor\u001b[0m\u001b[1;33m(\u001b[0m\u001b[1;33m)\u001b[0m\u001b[1;33m\u001b[0m\u001b[1;33m\u001b[0m\u001b[0m\n",
      "\u001b[1;31mKeyboardInterrupt\u001b[0m: "
     ]
    }
   ],
   "source": [
    "interactDataTaxon = []\n",
    "\n",
    "for animal in taxaList:\n",
    "    print(animal)\n",
    "    fetchInteractionForTaxon(animal,interactDataTaxon)\n",
    "    "
   ]
  },
  {
   "cell_type": "code",
   "execution_count": 12,
   "metadata": {},
   "outputs": [
    {
     "name": "stdout",
     "output_type": "stream",
     "text": [
      "Number of interactions found in gloBI  878\n"
     ]
    }
   ],
   "source": [
    "print(\"Number of interactions found in gloBI \", len(interactDataTaxon))"
   ]
  },
  {
   "cell_type": "code",
   "execution_count": 13,
   "metadata": {},
   "outputs": [],
   "source": [
    "# Convert to a Pandas dataframe\n",
    "interactDataTaxon = pd.DataFrame(interactDataTaxon)"
   ]
  },
  {
   "cell_type": "code",
   "execution_count": 14,
   "metadata": {},
   "outputs": [],
   "source": [
    "# Add column names\n",
    "interactDataTaxon\n",
    "interactDataTaxon.columns = ['sourceTaxonId', \\\n",
    "                                'sourceTaxonIds','sourceTaxonName','sourceTaxonRank','sourceTaxonPathNames', \\\n",
    "                                'sourceTaxonPathIds','sourceTaxonPathRankNames','sourceTaxonSpeciesName','sourceTaxonSpeciesId',\\\n",
    "                                'sourceTaxonGenusName','sourceTaxonGenusId','sourceTaxonFamilyName','sourceTaxonFamilyId',\\\n",
    "                                'sourceTaxonOrderName','sourceTaxonOrderId','sourceTaxonClassName','sourceTaxonClassId',\\\n",
    "                                'sourceTaxonPhylumName','sourceTaxonPhylumId','sourceTaxonKingdomName','sourceTaxonKingdomId',\\\n",
    "                                'sourceId','sourceOccurrenceId','sourceCatalogNumber','sourceBasisOfRecordId',\\\n",
    "                                'sourceBasisOfRecordName','sourceLifeStageId','sourceLifeStageName','sourceBodyPartId',\\\n",
    "                                'sourceBodyPartName','sourcePhysiologicalStateId','sourcePhysiologicalStateName', \\\n",
    "                                'sourceSexId', 'sourceSexName','interactionTypeName',\\\n",
    "                                'interactionTypeId','targetTaxonId','targetTaxonIds','targetTaxonName',\\\n",
    "                                'targetTaxonRank','targetTaxonPathNames','targetTaxonPathIds','targetTaxonPathRankNames',\\\n",
    "                                'targetTaxonSpeciesName','targetTaxonSpeciesId','targetTaxonGenusName','targetTaxonGenusId',\\\n",
    "                                'targetTaxonFamilyName','targetTaxonFamilyId','targetTaxonOrderName','targetTaxonOrderId',\\\n",
    "                                'targetTaxonClassName','targetTaxonClassId','targetTaxonPhylumName','targetTaxonPhylumId',\\\n",
    "                                'targetTaxonKingdomName','targetTaxonKingdomId','targetId','targetOccurrenceId',\\\n",
    "                                'targetCatalogNumber','targetBasisOfRecordId','targetBasisOfRecordName','targetLifeStageId',\\\n",
    "                                'targetLifeStageName','targetBodyPartId','targetBodyPartName','targetPhysiologicalStateId',\\\n",
    "                                'targetPhysiologicalStateName', 'targetSexId', 'targetSexName',\\\n",
    "                                'decimalLatitude','decimalLongitude','localityId',\\\n",
    "                                'localityName','eventDateUnixEpoch','argumentTypeId','referenceCitation',\\\n",
    "                                'referenceDoi','referenceUrl','sourceCitation','sourceNamespace',\\\n",
    "                                'sourceArchiveURI','sourceDOI','sourceLastSeenAtUnixEpoch','combo']"
   ]
  },
  {
   "cell_type": "markdown",
   "metadata": {},
   "source": [
    "## Get a list of all the primary interacting species"
   ]
  },
  {
   "cell_type": "code",
   "execution_count": 15,
   "metadata": {},
   "outputs": [
    {
     "data": {
      "text/plain": [
       "interactionTypeName\n",
       "hasHost               523\n",
       "eats                  270\n",
       "visitsFlowersOf        38\n",
       "parasiteOf             30\n",
       "pollinates             13\n",
       "hasDispersalVector      3\n",
       "pathogenOf              1\n",
       "dtype: int64"
      ]
     },
     "execution_count": 15,
     "metadata": {},
     "output_type": "execute_result"
    }
   ],
   "source": [
    "# How many different sort of interaction do I have left?\n",
    "# Checking out all the interaction types\n",
    "interactDataTaxon.groupby(interactDataTaxon['interactionTypeName']).size().sort_values(ascending = False)"
   ]
  },
  {
   "cell_type": "markdown",
   "metadata": {},
   "source": [
    "## Drawing a network of the interactions\n",
    "\n",
    "### Put the network together using the networkx package"
   ]
  },
  {
   "cell_type": "code",
   "execution_count": 19,
   "metadata": {},
   "outputs": [
    {
     "name": "stdout",
     "output_type": "stream",
     "text": [
      "using package pydot\n"
     ]
    }
   ],
   "source": [
    "#networkx seems to be a leading network tool in Python\n",
    "import networkx as nx\n",
    "import matplotlib.pyplot as plt\n",
    "\n",
    "try:\n",
    "    import pygraphviz\n",
    "    from networkx.drawing.nx_agraph import write_dot\n",
    "    print(\"using package pygraphviz\")\n",
    "except ImportError:\n",
    "    try:\n",
    "        import pydot\n",
    "        from networkx.drawing.nx_pydot import write_dot\n",
    "        print(\"using package pydot\")\n",
    "    except ImportError:\n",
    "        print()\n",
    "        print(\"Both pygraphviz and pydot were not found \")\n",
    "        print(\"see  https://networkx.github.io/documentation/latest/reference/drawing.html\")\n",
    "        print()"
   ]
  },
  {
   "cell_type": "code",
   "execution_count": 20,
   "metadata": {},
   "outputs": [],
   "source": [
    "# Create graphic object\n",
    "G = nx.DiGraph()"
   ]
  },
  {
   "cell_type": "markdown",
   "metadata": {},
   "source": [
    "## A quick look at the interaction data to see if it is what is expected"
   ]
  },
  {
   "cell_type": "code",
   "execution_count": 21,
   "metadata": {},
   "outputs": [
    {
     "data": {
      "text/html": [
       "<div>\n",
       "<style scoped>\n",
       "    .dataframe tbody tr th:only-of-type {\n",
       "        vertical-align: middle;\n",
       "    }\n",
       "\n",
       "    .dataframe tbody tr th {\n",
       "        vertical-align: top;\n",
       "    }\n",
       "\n",
       "    .dataframe thead th {\n",
       "        text-align: right;\n",
       "    }\n",
       "</style>\n",
       "<table border=\"1\" class=\"dataframe\">\n",
       "  <thead>\n",
       "    <tr style=\"text-align: right;\">\n",
       "      <th></th>\n",
       "      <th>sourceTaxonId</th>\n",
       "      <th>sourceTaxonIds</th>\n",
       "      <th>sourceTaxonName</th>\n",
       "      <th>sourceTaxonRank</th>\n",
       "      <th>sourceTaxonPathNames</th>\n",
       "      <th>sourceTaxonPathIds</th>\n",
       "      <th>sourceTaxonPathRankNames</th>\n",
       "      <th>sourceTaxonSpeciesName</th>\n",
       "      <th>sourceTaxonSpeciesId</th>\n",
       "      <th>sourceTaxonGenusName</th>\n",
       "      <th>...</th>\n",
       "      <th>argumentTypeId</th>\n",
       "      <th>referenceCitation</th>\n",
       "      <th>referenceDoi</th>\n",
       "      <th>referenceUrl</th>\n",
       "      <th>sourceCitation</th>\n",
       "      <th>sourceNamespace</th>\n",
       "      <th>sourceArchiveURI</th>\n",
       "      <th>sourceDOI</th>\n",
       "      <th>sourceLastSeenAtUnixEpoch</th>\n",
       "      <th>combo</th>\n",
       "    </tr>\n",
       "  </thead>\n",
       "  <tbody>\n",
       "  </tbody>\n",
       "</table>\n",
       "<p>0 rows × 85 columns</p>\n",
       "</div>"
      ],
      "text/plain": [
       "Empty DataFrame\n",
       "Columns: [sourceTaxonId, sourceTaxonIds, sourceTaxonName, sourceTaxonRank, sourceTaxonPathNames, sourceTaxonPathIds, sourceTaxonPathRankNames, sourceTaxonSpeciesName, sourceTaxonSpeciesId, sourceTaxonGenusName, sourceTaxonGenusId, sourceTaxonFamilyName, sourceTaxonFamilyId, sourceTaxonOrderName, sourceTaxonOrderId, sourceTaxonClassName, sourceTaxonClassId, sourceTaxonPhylumName, sourceTaxonPhylumId, sourceTaxonKingdomName, sourceTaxonKingdomId, sourceId, sourceOccurrenceId, sourceCatalogNumber, sourceBasisOfRecordId, sourceBasisOfRecordName, sourceLifeStageId, sourceLifeStageName, sourceBodyPartId, sourceBodyPartName, sourcePhysiologicalStateId, sourcePhysiologicalStateName, sourceSexId, sourceSexName, interactionTypeName, interactionTypeId, targetTaxonId, targetTaxonIds, targetTaxonName, targetTaxonRank, targetTaxonPathNames, targetTaxonPathIds, targetTaxonPathRankNames, targetTaxonSpeciesName, targetTaxonSpeciesId, targetTaxonGenusName, targetTaxonGenusId, targetTaxonFamilyName, targetTaxonFamilyId, targetTaxonOrderName, targetTaxonOrderId, targetTaxonClassName, targetTaxonClassId, targetTaxonPhylumName, targetTaxonPhylumId, targetTaxonKingdomName, targetTaxonKingdomId, targetId, targetOccurrenceId, targetCatalogNumber, targetBasisOfRecordId, targetBasisOfRecordName, targetLifeStageId, targetLifeStageName, targetBodyPartId, targetBodyPartName, targetPhysiologicalStateId, targetPhysiologicalStateName, targetSexId, targetSexName, decimalLatitude, decimalLongitude, localityId, localityName, eventDateUnixEpoch, argumentTypeId, referenceCitation, referenceDoi, referenceUrl, sourceCitation, sourceNamespace, sourceArchiveURI, sourceDOI, sourceLastSeenAtUnixEpoch, combo]\n",
       "Index: []\n",
       "\n",
       "[0 rows x 85 columns]"
      ]
     },
     "execution_count": 21,
     "metadata": {},
     "output_type": "execute_result"
    }
   ],
   "source": [
    "#cleanInteractDataTaxon.loc[(cleanInteractDataTaxon[\"sourceTaxonName\"] == 'Apis mellifera') & (cleanInteractDataTaxon[\"targetTaxonName\"] == 'Procyon lotor')]\n",
    "interactDataTaxon.loc[(interactDataTaxon[\"sourceTaxonSpeciesName\"] == 'Nyctereutes procyonoides')]"
   ]
  },
  {
   "cell_type": "markdown",
   "metadata": {},
   "source": [
    "### Take out any interactions that are for the same pair of species and interaction type"
   ]
  },
  {
   "cell_type": "code",
   "execution_count": 25,
   "metadata": {},
   "outputs": [],
   "source": [
    "interactDataTaxonNoDups = interactDataTaxon.drop_duplicates(subset=['sourceTaxonSpeciesName', 'targetTaxonSpeciesName', 'interactionTypeName'])"
   ]
  },
  {
   "cell_type": "code",
   "execution_count": 26,
   "metadata": {},
   "outputs": [
    {
     "data": {
      "text/plain": [
       "192"
      ]
     },
     "execution_count": 26,
     "metadata": {},
     "output_type": "execute_result"
    }
   ],
   "source": [
    "len(interactDataTaxonNoDups)"
   ]
  },
  {
   "cell_type": "markdown",
   "metadata": {},
   "source": [
    "### Add the nodes to the graph"
   ]
  },
  {
   "cell_type": "code",
   "execution_count": 27,
   "metadata": {},
   "outputs": [],
   "source": [
    "# Kingdom is added because it is useful for visualization in Gehpi\n",
    "\n",
    "for key in taxaList:\n",
    "    G.add_node(key, kingdom=taxaList[key])"
   ]
  },
  {
   "cell_type": "markdown",
   "metadata": {},
   "source": [
    "### Add edges to the graph"
   ]
  },
  {
   "cell_type": "code",
   "execution_count": 28,
   "metadata": {},
   "outputs": [
    {
     "name": "stdout",
     "output_type": "stream",
     "text": [
      "C:  Juncus effusus Fringilla coelebs hasDispersalVector\n",
      "C:  Juncus effusus Sylvia atricapilla hasDispersalVector\n",
      "C:  Bombus terrestris Tropaeolum majus visitsFlowersOf\n",
      "C:  Pieris napi Tropaeolum majus eats\n",
      "C:  Vanessa cardui Tropaeolum majus eats\n",
      "C:  Vanessa cardui Tropaeolum majus visitsFlowersOf\n",
      "C:  Apis mellifera Tropaeolum majus eats\n",
      "C:  Apis mellifera Tropaeolum majus visitsFlowersOf\n",
      "C:  Aphis fabae Tropaeolum majus eats\n"
     ]
    }
   ],
   "source": [
    "# iterate over the interacting species\n",
    "# then add the edge if the target species exists.\n",
    "\n",
    "#for index, row in cleanInteractDataTaxon.iterrows():\n",
    "    \n",
    "taxaList2 = taxaList\n",
    "\n",
    "for key in taxaList:\n",
    "    # loop over all the taxa finding if any of them are mentioned in the sourceTaxonName field\n",
    "    for edge in interactDataTaxonNoDups.iterrows():\n",
    "        if key == edge[1]['sourceTaxonSpeciesName']:\n",
    "            #print('B: ', edge[1]['sourceTaxonName'], edge[1]['targetTaxonName'])\n",
    "            # Some of the target species will not be in GBIF of in the country, so only add an edge where they are.\n",
    "            for key2 in taxaList2:\n",
    "                #print('E: ', row2['species'], edge[1]['targetTaxonName'])\n",
    "                if key2 == edge[1]['targetTaxonSpeciesName']: \n",
    "                    print('C: ', key, key2, edge[1]['interactionTypeName'])\n",
    "                    G.add_edge(key, key2, label = edge[1]['interactionTypeName'])\n"
   ]
  },
  {
   "cell_type": "code",
   "execution_count": 29,
   "metadata": {},
   "outputs": [
    {
     "name": "stdout",
     "output_type": "stream",
     "text": [
      "Number of nodes = 1042\n",
      "Number of edges = 7\n"
     ]
    }
   ],
   "source": [
    "print(\"Number of nodes = {0}\".format(G.number_of_nodes()))\n",
    "print(\"Number of edges = {0}\".format(G.number_of_edges()))"
   ]
  },
  {
   "cell_type": "markdown",
   "metadata": {},
   "source": [
    "## Remove any nodes that have no edges.\n"
   ]
  },
  {
   "cell_type": "code",
   "execution_count": 30,
   "metadata": {},
   "outputs": [],
   "source": [
    "#for n in G.nodes:\n",
    "#    if G.degree(n) == 0:\n",
    "#        G.remove_node(n)\n",
    "        \n",
    "G.remove_nodes_from(list(nx.isolates(G)))"
   ]
  },
  {
   "cell_type": "code",
   "execution_count": 31,
   "metadata": {},
   "outputs": [
    {
     "data": {
      "text/plain": [
       "9"
      ]
     },
     "execution_count": 31,
     "metadata": {},
     "output_type": "execute_result"
    }
   ],
   "source": [
    "len(G.nodes)"
   ]
  },
  {
   "cell_type": "markdown",
   "metadata": {},
   "source": [
    "## Remove any selfloop edges"
   ]
  },
  {
   "cell_type": "code",
   "execution_count": 32,
   "metadata": {},
   "outputs": [],
   "source": [
    "for e in G.selfloop_edges(data=False):\n",
    "    G.remove_edge(e[0],e[1])"
   ]
  },
  {
   "cell_type": "markdown",
   "metadata": {},
   "source": [
    "### For import into Gephi: A nodes and edges file has been replace by the .dot file format"
   ]
  },
  {
   "cell_type": "code",
   "execution_count": 59,
   "metadata": {},
   "outputs": [],
   "source": [
    "write_dot(G, \"..\\\\docs\\\\\"+\"network\"+\".dot\")"
   ]
  },
  {
   "cell_type": "code",
   "execution_count": null,
   "metadata": {},
   "outputs": [],
   "source": []
  },
  {
   "cell_type": "code",
   "execution_count": null,
   "metadata": {},
   "outputs": [],
   "source": []
  },
  {
   "cell_type": "code",
   "execution_count": null,
   "metadata": {},
   "outputs": [],
   "source": []
  },
  {
   "cell_type": "code",
   "execution_count": null,
   "metadata": {},
   "outputs": [],
   "source": []
  },
  {
   "cell_type": "code",
   "execution_count": null,
   "metadata": {},
   "outputs": [],
   "source": []
  }
 ],
 "metadata": {
  "kernelspec": {
   "display_name": "Python 3",
   "language": "python",
   "name": "python3"
  },
  "language_info": {
   "codemirror_mode": {
    "name": "ipython",
    "version": 3
   },
   "file_extension": ".py",
   "mimetype": "text/x-python",
   "name": "python",
   "nbconvert_exporter": "python",
   "pygments_lexer": "ipython3",
   "version": "3.7.3"
  }
 },
 "nbformat": 4,
 "nbformat_minor": 2
}
